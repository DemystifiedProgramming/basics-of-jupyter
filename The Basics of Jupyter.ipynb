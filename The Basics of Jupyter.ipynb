{
 "cells": [
  {
   "cell_type": "markdown",
   "metadata": {},
   "source": [
    "<h1 style=\"font-family: Verdana;\">What is Jupyter?</h1>\n",
    "<br>\n",
    "<div style=\"font-family: Georgia;\">\n",
    "<p>\"The Jupyter Notebook is an open-source web application that allows you to create and share documents that contain live code, equations, visualizations and narrative text. Uses include: data cleaning and transformation, numerical simulation, statistical modeling, data visualization, machine learning, and much more.\"</p>\n",
    "<p>Every Jupyter file has a .ipynb file extension, which is short for \"Interactive Python Notebook\". To make Jupyter have a more interactive user interface, you can install the Interactive Python Widgets library by using</p>\n",
    "<img src=\"https://github.com/DemystifiedProgramming/basics-of-jupyter/blob/master/pictures/ipywidget%20cmd.JPG?raw=true\" alt=\"image load failed\">\n",
    "<p>in a command shell. The library allows you to create interfaces with adjustable sliders, customizeable plots, entry fields, and other useful widgets to make your code more compelling. For the ipywidgets documentation, click <a target=\"_blank\" href=\"https://ipywidgets.readthedocs.io/en/latest/\" style=\"font-family: Georgia;\">here</a> for more info.</p>\n",
    "<a target=\"_blank\" href=\"https://jupyter.org/\" style=\"font-family: Georgia;\">visit jupyter.org</a>\n",
    "</div>"
   ]
  },
  {
   "cell_type": "markdown",
   "metadata": {},
   "source": [
    "<h1 style=\"font-family: Verdana;\">The Three Cell Types</h1>\n",
    "<br>\n",
    "<ul style=\"font-family: Georgia;\">\n",
    "    <li><strong>Code</strong></li>\n",
    "    <br>\n",
    "    <p>Code cells contain Python code that can be executed upon using the command Cell->Run Cells or by using the keyboard shortcut \"Ctrl+Enter\" or on a Mac \"Cmd+Enter\". Code cells cannot contain raw text or languages other than Python.</p>\n",
    "    <li><strong>Markdown</strong></li>\n",
    "    <br>\n",
    "    <p>Markdown cells contain HTML code like this one you are reading. Although, their functionality is a bit modified from what a normal HTML file would be like. For example, you don't have to specify \"!DOCTYPE HTML\" in brackets at the beginning of the cell like you would in an HTML file. To display the html output of your markdown code, use Cell->Run Cells or keyboard shortcut as you would for a code cell. To edit a markdown cell after executing it, double-click on it and the code will reappear.</p>\n",
    "    <li><strong>RawNBConvert</strong></li>\n",
    "    <br>\n",
    "    <p>RawNBConvert or \"Raw Notebook Convert\" is a cell type that allows the user to convert a Jupyter notebook into a different file format. Examples are HTML, LaTeX, or PDF. In my experience, this cell type does not get used all that much. If you do need to use this cell type, I have found reading the <a style=\"font-family: Georgia;\" target=\"_blank\" href=\"https://nbconvert.readthedocs.io/en/latest/\">documentation</a> to be useful.</p>\n",
    "</ul>\n",
    "<br>\n",
    "<p style=\"font-family: Georgia;\">In short, the only cell types you will use all the time are code and markdown cells. Code cells will be used for running sections of Python code and markdown cells for adding clarity or a description to give your code context.</p>"
   ]
  },
  {
   "cell_type": "markdown",
   "metadata": {},
   "source": [
    "<h1 style=\"font-family: Verdana;\">Most Common Commands</h1>\n",
    "<br>\n",
    "<ul style=\"font-family: Georgia;\">\n",
    "    <li><strong>File->Save and Checkpoint</strong></li>\n",
    "    <li><strong>File->Close and Halt</strong></li>\n",
    "    <li><strong>Edit->Delete Cells</strong></li>\n",
    "    <li><strong>Insert->Insert Cell Above and Insert->Insert Cell Below</strong></li>\n",
    "    <li><strong>Cell->Run All</strong></li>\n",
    "    <li><strong>Cell->Cell Type</strong></li>\n",
    "    <li><strong>Kernel->Restart commands</strong></li>\n",
    "    <li><strong>Help->Keyboard Shortcuts and Help->Edit Keyboard Shortcuts</strong></li>\n",
    "</ul>"
   ]
  },
  {
   "cell_type": "markdown",
   "metadata": {},
   "source": [
    "<p style=\"font-family: Georgia;\">Try running this code cell below by selecting it with your mouse and clicking run or using the keyboard shortcut \"Ctrl+Enter\". If you want to run this cell and create another below it, use \"Alt+Enter\".</p>"
   ]
  },
  {
   "cell_type": "code",
   "execution_count": 10,
   "metadata": {},
   "outputs": [
    {
     "name": "stdout",
     "output_type": "stream",
     "text": [
      "Hello World!\n"
     ]
    }
   ],
   "source": [
    "print(\"Hello World!\")"
   ]
  },
  {
   "cell_type": "markdown",
   "metadata": {},
   "source": [
    "<p style=\"font-family: Georgia;\">Here is what looks like a code cell below, however it is actually a markdown cell with embedded Python code. This is especially useful to use when you want to go over a code example or give detail to what it does. If it is embedded in HTML text you can give a code example better context than a simple comment. Below we import the sqrt method from the math module and use it in the distance function. At the end we print the distance of points (0, 0) and (1, 1). Double-click on the code example below to see how it works. Notice that the word \"python\" is next to the top \"```\". This can be changed out for C++, Java, or another language to use appropriate syntax highlighting. See the C++ version of our Python example below it.  Note that embedded code in markdown cannot be executed like normal code cells and are only for show.</p>"
   ]
  },
  {
   "cell_type": "markdown",
   "metadata": {},
   "source": [
    "```python\n",
    "from math import sqrt\n",
    "def distance(point0, point1):\n",
    "    # assumes point0 and point1 are tuples/lists with an x and y value\n",
    "    return sqrt((point1[0] - point0[0])**2 + (point1[1] - point0[1])**2)\n",
    "print(distance((0, 0), (1, 1)))\n",
    "\n",
    ">> 1.4142135623730951\n",
    "```"
   ]
  },
  {
   "cell_type": "markdown",
   "metadata": {},
   "source": [
    "```c++\n",
    "#include <iostream>\n",
    "#include <cmath>\n",
    "#include <vector>\n",
    "\n",
    "double distance(std::vector<double>& point0, std::vector<double>& point1);\n",
    "\n",
    "double distance(std::vector<double>& point0, std::vector<double>& point1){\n",
    "\n",
    "    //point0 and point1 are vectors with two doubles x and y\n",
    "    return sqrt(pow(point1[0]-point0[0], 2) + pow(point1[1]-point0[1], 2));\n",
    "}\n",
    "\n",
    "\n",
    "int main(int argc, char* argv[]){\n",
    "\n",
    "    std::vector<double> point0 = {0.0, 0.0};\n",
    "    std::vector<double> point1 = {1.0, 1.0};\n",
    "    std::cout << distance(point0, point1) << std::endl;\n",
    "    return 0;\n",
    "}\n",
    "\n",
    "\n",
    ">> 1.41421\n",
    "```"
   ]
  },
  {
   "cell_type": "markdown",
   "metadata": {},
   "source": [
    "<h1 style=\"font-family: Verdana\">Good Jupyter Practice</h1>\n",
    "<br>\n",
    "<ol style=\"font-family: Georgia\">    \n",
    "    <li><strong>Usually create new notebooks in the Jupyter Directory Page</strong></li>\n",
    "    <li><strong>Even though Jupyter autosaves, doing \"Ctrl+S\" frequently is helpful in case your connection terminates abruptly</strong></li>\n",
    "    <li><strong>Learning the various shortcuts in Help->Keyboard Shortcuts will save you time in the long run</strong></li>\n",
    "    <li><strong>When you are done working on a notebook use File->Close and Halt to free up memory so that your notebook does not run in the background</strong></li>\n",
    "</ol>"
   ]
  },
  {
   "cell_type": "markdown",
   "metadata": {},
   "source": [
    "<h1 style=\"font-family: Verdana;\">Jupyter Themes</h1>\n",
    "<br>\n",
    "<div style=\"font-family: Georgia;\">\n",
    "<p>To get more themes for your jupyter notebooks other than the yucky white theme (just my opinion), first install jupyterthemes in a command shell using pip.</p>\n",
    "<img src=\"https://github.com/DemystifiedProgramming/basics-of-jupyter/blob/master/pictures/pip%20jupyterthemes.JPG?raw=true\" alt=\"image load failed\">\n",
    "<p>Then type this help command to get a list of commands available.</p>\n",
    "<img src=\"https://github.com/DemystifiedProgramming/basics-of-jupyter/blob/master/pictures/jt%20help.JPG?raw=true\" alt=\"image load failed\">\n",
    "<p>You can list out the available themes by typing</p>\n",
    "<img src=\"https://github.com/DemystifiedProgramming/basics-of-jupyter/blob/master/pictures/list%20themes.JPG?raw=true\" alt=\"image load failed\">\n",
    "<p>and then set Jupyter to a specific theme by doing</p>\n",
    "<img src=\"https://github.com/DemystifiedProgramming/basics-of-jupyter/blob/master/pictures/get%20theme.JPG?raw=true\" alt=\"image load failed\">\n",
    "</div>\n",
    "\n"
   ]
  },
  {
   "cell_type": "markdown",
   "metadata": {},
   "source": [
    "<p style=\"font-family: Georgia;\">Well, that's the basics of Jupyter! Of course there are more nuances to Jupyter Notebooks that would need more time to be discussed. However, the information here will suffice for most uses of Jupyter.</p>"
   ]
  }
 ],
 "metadata": {
  "kernelspec": {
   "display_name": "Python 3",
   "language": "python",
   "name": "python3"
  },
  "language_info": {
   "codemirror_mode": {
    "name": "ipython",
    "version": 3
   },
   "file_extension": ".py",
   "mimetype": "text/x-python",
   "name": "python",
   "nbconvert_exporter": "python",
   "pygments_lexer": "ipython3",
   "version": "3.8.2"
  }
 },
 "nbformat": 4,
 "nbformat_minor": 4
}
